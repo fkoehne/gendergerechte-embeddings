{
 "cells": [
  {
   "cell_type": "markdown",
   "id": "dbaaeec4",
   "metadata": {},
   "source": [
    "Start your qdrant server first (or use the free qdrant SAAS tier)."
   ]
  },
  {
   "cell_type": "code",
   "execution_count": 2,
   "id": "5046e668",
   "metadata": {},
   "outputs": [],
   "source": [
    "# Initialize clients\n",
    "from openai import OpenAI\n",
    "openAIclient = OpenAI()\n",
    "\n",
    "# Setup a local qdrant DB\n",
    "from qdrant_client import QdrantClient\n",
    "from qdrant_client.models import Distance, VectorParams\n",
    "\n",
    "# qdrant = QdrantClient(path=\"../qdrant\")  # Persists changes to disk (no qdrant UI though)\n",
    "\n",
    "qdrant = QdrantClient(\"http://localhost:6333\") # Connect to existing Qdrant instance\n"
   ]
  },
  {
   "cell_type": "code",
   "execution_count": null,
   "id": "69fd6727",
   "metadata": {},
   "outputs": [],
   "source": [
    "from qdrant_client.models import PointStruct\n",
    "# Check if collection exists and create it if it doesn't\n",
    "if qdrant.collection_exists(collection_name=\"GendergerechteSprache\"):\n",
    "    qdrant.delete_collection(collection_name=\"GendergerechteSprache\")\n",
    "qdrant.create_collection(\n",
    "    collection_name=\"GendergerechteSprache\", # Cluster centroids\n",
    "    vectors_config=VectorParams(size=1536, distance=Distance.COSINE))\n",
    "\n",
    "demo_sentences = [\"Gesucht: IT-Berater:in\",\n",
    "                  \"Gesucht: IT-Berater\",\n",
    "                  \"Gesucht: IT-Consultant\",\n",
    "                  \"Gesucht: IT-Beraterin\",\n",
    "                  \"Gesucht: IT-Berater*in\",\n",
    "                  \"Gesucht: IT-Beratende\",\n",
    "                  \"Gesucht: Bademeister\",\n",
    "                  \"Gesucht: Bademeisterin\",\n",
    "                  \"Gesucht: Bademeister*in\",\n",
    "                  \"Gesucht: Bademeister:in\",\n",
    "                  \"Gesucht: Hufschmied\",\n",
    "                  \"Gesucht: Hufschmiedin\",\n",
    "                  \"Gesucht: Hufschmied:in\",\n",
    "                  \"Gesucht: Hufschmied*in\"\n",
    "                  ] \n",
    "\n",
    "# Here, we assume that the OpenAI API key is set in the environment variable OPENAI_API_KEY\n",
    "\n",
    "for i, sentence in enumerate(demo_sentences, start=200):\n",
    "    response = openAIclient.embeddings.create(\n",
    "        model=\"text-embedding-3-small\",\n",
    "        input=sentence,\n",
    "        encoding_format=\"float\"\n",
    "    )\n",
    "    emb = response.data[0].embedding\n",
    "    \n",
    "    # Add the sentence and its embedding to qdrant\n",
    "\n",
    "    qdrant.upsert(\n",
    "    collection_name=\"GendergerechteSprache\",\n",
    "        points=[\n",
    "            PointStruct(\n",
    "                id=i,\n",
    "                vector=emb,\n",
    "                payload={\"sentence\": sentence}\n",
    "            )\n",
    "        ]\n",
    "    )\n",
    "\n",
    "qdrant.count(\"GendergerechteSprache\")"
   ]
  },
  {
   "cell_type": "markdown",
   "id": "4e0630e7",
   "metadata": {},
   "source": [
    "Take a look at http://localhost:6333/dashboard\n",
    "\n",
    "Wit a visualisation config such as this one:\n",
    "```\n",
    "{\n",
    "  \"limit\": 500,\n",
    "  \"algorithm\": \"UMAP\"\n",
    "}\n",
    "```\n",
    "IT-Berater <- 0.962 -> IT-Berater:in "
   ]
  },
  {
   "cell_type": "code",
   "execution_count": 1,
   "id": "9f7f586f",
   "metadata": {},
   "outputs": [
    {
     "ename": "NameError",
     "evalue": "name 'openAIclient' is not defined",
     "output_type": "error",
     "traceback": [
      "\u001b[1;31m---------------------------------------------------------------------------\u001b[0m",
      "\u001b[1;31mNameError\u001b[0m                                 Traceback (most recent call last)",
      "Cell \u001b[1;32mIn[1], line 4\u001b[0m\n\u001b[0;32m      1\u001b[0m \u001b[38;5;66;03m# Query qdrant with the sentence \"Gesucht: IT-Berater\", print the results and their cosine similarity\u001b[39;00m\n\u001b[0;32m      2\u001b[0m \u001b[38;5;66;03m# Get embedding for the query sentence\u001b[39;00m\n\u001b[0;32m      3\u001b[0m query_sentence \u001b[38;5;241m=\u001b[39m \u001b[38;5;124m\"\u001b[39m\u001b[38;5;124mGesucht: IT-Berater\u001b[39m\u001b[38;5;124m\"\u001b[39m\n\u001b[1;32m----> 4\u001b[0m response \u001b[38;5;241m=\u001b[39m \u001b[43mopenAIclient\u001b[49m\u001b[38;5;241m.\u001b[39membeddings\u001b[38;5;241m.\u001b[39mcreate(\n\u001b[0;32m      5\u001b[0m     model\u001b[38;5;241m=\u001b[39m\u001b[38;5;124m\"\u001b[39m\u001b[38;5;124mtext-embedding-3-small\u001b[39m\u001b[38;5;124m\"\u001b[39m,\n\u001b[0;32m      6\u001b[0m     \u001b[38;5;28minput\u001b[39m\u001b[38;5;241m=\u001b[39mquery_sentence,\n\u001b[0;32m      7\u001b[0m     encoding_format\u001b[38;5;241m=\u001b[39m\u001b[38;5;124m\"\u001b[39m\u001b[38;5;124mfloat\u001b[39m\u001b[38;5;124m\"\u001b[39m\n\u001b[0;32m      8\u001b[0m )\n\u001b[0;32m      9\u001b[0m query_vector \u001b[38;5;241m=\u001b[39m response\u001b[38;5;241m.\u001b[39mdata[\u001b[38;5;241m0\u001b[39m]\u001b[38;5;241m.\u001b[39membedding\n\u001b[0;32m     11\u001b[0m \u001b[38;5;66;03m# Search for similar sentences in the collection\u001b[39;00m\n",
      "\u001b[1;31mNameError\u001b[0m: name 'openAIclient' is not defined"
     ]
    }
   ],
   "source": [
    "# Query qdrant with the sentence \"Gesucht: IT-Berater\", print the results and their cosine similarity\n",
    "# Get embedding for the query sentence\n",
    "query_sentence = \"Gesucht: IT-Berater\"\n",
    "response = openAIclient.embeddings.create(\n",
    "    model=\"text-embedding-3-small\",\n",
    "    input=query_sentence,\n",
    "    encoding_format=\"float\"\n",
    ")\n",
    "query_vector = response.data[0].embedding\n",
    "\n",
    "# Search for similar sentences in the collection\n",
    "search_results = qdrant.search(\n",
    "    collection_name=\"GendergerechteSprache\",\n",
    "    query_vector=query_vector,\n",
    "    limit=10  # Return top 10 results\n",
    ")\n",
    "\n",
    "# Print the results with their cosine similarity scores\n",
    "print(f\"Query: '{query_sentence}'\\n\")\n",
    "print(\"Results (ordered by similarity):\")\n",
    "print(\"-\" * 50)\n",
    "for result in search_results:\n",
    "    # Cosine similarity score (higher is more similar)\n",
    "    similarity = 1 - result.score  # Converting from distance to similarity\n",
    "    percentage = similarity * 100\n",
    "    \n",
    "    print(f\"• {result.payload['sentence']}\")\n",
    "    print(f\"  Similarity: {similarity:.4f} ({percentage:.2f}%)\")\n",
    "    print()"
   ]
  }
 ],
 "metadata": {
  "kernelspec": {
   "display_name": "Python 3",
   "language": "python",
   "name": "python3"
  },
  "language_info": {
   "codemirror_mode": {
    "name": "ipython",
    "version": 3
   },
   "file_extension": ".py",
   "mimetype": "text/x-python",
   "name": "python",
   "nbconvert_exporter": "python",
   "pygments_lexer": "ipython3",
   "version": "3.12.10"
  }
 },
 "nbformat": 4,
 "nbformat_minor": 5
}
